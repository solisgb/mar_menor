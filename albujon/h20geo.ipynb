{
 "cells": [
  {
   "cell_type": "markdown",
   "id": "b91b7f0e-87da-4a88-af0c-9605dfbb079f",
   "metadata": {},
   "source": [
    "# Piezómetros Mar Menor"
   ]
  },
  {
   "cell_type": "code",
   "execution_count": 2,
   "id": "e81eab73-92af-4df2-af06-0053013d744d",
   "metadata": {},
   "outputs": [],
   "source": [
    "import getpass\n",
    "import matplotlib as mpl\n",
    "import matplotlib.pyplot as plt\n",
    "import numpy as np\n",
    "import psycopg2\n",
    "import pandas as pd\n",
    "import pandas.io.sql as psql\n",
    "%matplotlib widget"
   ]
  },
  {
   "cell_type": "code",
   "execution_count": 3,
   "id": "55b9b13d-f1b6-4e31-9aa4-e66ba0c419bb",
   "metadata": {},
   "outputs": [],
   "source": [
    "import sys\n",
    "sys.path.append(r'C:\\Users\\solis\\Documents\\DEV\\python3\\common')\n",
    "import plot_with_mpl as p"
   ]
  },
  {
   "cell_type": "markdown",
   "id": "f03342c7-0beb-4081-b37b-4f82aff4a60e",
   "metadata": {},
   "source": [
    "## Reload module plot_with_mpl"
   ]
  },
  {
   "cell_type": "code",
   "execution_count": 5,
   "id": "22c51444-0f0b-464b-8aed-bd518471a184",
   "metadata": {},
   "outputs": [],
   "source": [
    "from importlib import reload # python 2.7 does not require this\n",
    "import plot_with_mpl\n",
    "reload(plot_with_mpl)\n",
    "import plot_with_mpl as p"
   ]
  },
  {
   "cell_type": "markdown",
   "id": "8dfdd232-7528-4606-b813-d5dc9c815490",
   "metadata": {},
   "source": [
    "## Figure parameters"
   ]
  },
  {
   "cell_type": "code",
   "execution_count": 6,
   "id": "4efe269f-ed0d-4b02-a458-cec92897704c",
   "metadata": {},
   "outputs": [
    {
     "name": "stdout",
     "output_type": "stream",
     "text": [
      "4.330708661417323 3.248031496062992\n"
     ]
    }
   ],
   "source": [
    "x_cm = 11\n",
    "x_in, y_in = p.fig_size_cm_2_in(x_cm)\n",
    "print(x_in, y_in)"
   ]
  },
  {
   "cell_type": "code",
   "execution_count": 8,
   "id": "d11ea7a4-edcd-436f-b547-9b30346287d5",
   "metadata": {},
   "outputs": [],
   "source": [
    "mpl.rcdefaults()\n",
    "plt.rc('figure', figsize=(x_in, y_in), dpi=80)\n",
    "plt.rc('font', size=8)\n",
    "plt.rc('axes', labelsize=8, titlesize= 9, grid=True)\n",
    "plt.rc('axes.spines', right=False, top=False)\n",
    "plt.rc('xtick', direction='out', top=False)\n",
    "plt.rc('ytick', direction='out', right=False)\n",
    "plt.rc('lines', linewidth=0.8, linestyle='-', marker='.', markersize=4)\n",
    "plt.rc('legend', fontsize=8, framealpha=0.5, loc='best')\n",
    "\n",
    "plt.subplots_adjust(hspace=0.1, bottom=0.16, top=0.87)\n",
    "plt.close()"
   ]
  },
  {
   "cell_type": "markdown",
   "id": "169d247d-786c-4328-b9e8-c62871af014f",
   "metadata": {},
   "source": [
    "## Functions"
   ]
  },
  {
   "cell_type": "markdown",
   "id": "dfde7864-179f-4232-96a7-82a73ac1680d",
   "metadata": {},
   "source": [
    "## Database"
   ]
  },
  {
   "cell_type": "code",
   "execution_count": 9,
   "id": "efec07d5-a437-4e01-889f-8e0c12d347d6",
   "metadata": {},
   "outputs": [
    {
     "name": "stdin",
     "output_type": "stream",
     "text": [
      "DB:  ···\n",
      "User:  ········\n",
      "Password:  ··\n"
     ]
    }
   ],
   "source": [
    "db = getpass.getpass('DB: ')\n",
    "user = getpass.getpass('User: ')\n",
    "passw = getpass.getpass('Password: ')\n",
    "con = psycopg2.connect(database=db, user=user, password=passw)\n",
    "cur = con.cursor()"
   ]
  },
  {
   "cell_type": "markdown",
   "id": "08d08c10-4cfa-40ef-8dee-ad7fbc125a69",
   "metadata": {},
   "source": [
    "## Data"
   ]
  },
  {
   "cell_type": "markdown",
   "id": "3762085d-478a-4d6b-9744-cb8cd310355b",
   "metadata": {},
   "source": [
    "### Desembocadura Albujón"
   ]
  },
  {
   "cell_type": "code",
   "execution_count": 10,
   "id": "76029ac9-fec6-4d2a-bb4b-c10a78e25aec",
   "metadata": {},
   "outputs": [],
   "source": [
    "# desembocadura albujón\n",
    "select = \\\n",
    "\"\"\"\n",
    "select t.fecha::date fecha, (avg(t.v)) q\n",
    "from saih.tsh t \n",
    "where id = '06a18' and t.var='q01'\n",
    "group by t.fecha::date\n",
    "order by t.fecha::date\n",
    "\"\"\"\n",
    "df_alb18 = psql.read_sql(select, con)"
   ]
  },
  {
   "cell_type": "code",
   "execution_count": 62,
   "id": "9f3380d4-3e66-4af5-97dd-f0430e8d301c",
   "metadata": {},
   "outputs": [
    {
     "data": {
      "text/html": [
       "<div>\n",
       "<style scoped>\n",
       "    .dataframe tbody tr th:only-of-type {\n",
       "        vertical-align: middle;\n",
       "    }\n",
       "\n",
       "    .dataframe tbody tr th {\n",
       "        vertical-align: top;\n",
       "    }\n",
       "\n",
       "    .dataframe thead th {\n",
       "        text-align: right;\n",
       "    }\n",
       "</style>\n",
       "<table border=\"1\" class=\"dataframe\">\n",
       "  <thead>\n",
       "    <tr style=\"text-align: right;\">\n",
       "      <th></th>\n",
       "      <th>fecha</th>\n",
       "      <th>q</th>\n",
       "    </tr>\n",
       "  </thead>\n",
       "  <tbody>\n",
       "    <tr>\n",
       "      <th>0</th>\n",
       "      <td>2021-01-12</td>\n",
       "      <td>0.183242</td>\n",
       "    </tr>\n",
       "    <tr>\n",
       "      <th>1</th>\n",
       "      <td>2021-01-13</td>\n",
       "      <td>0.184608</td>\n",
       "    </tr>\n",
       "    <tr>\n",
       "      <th>2</th>\n",
       "      <td>2021-01-14</td>\n",
       "      <td>0.177271</td>\n",
       "    </tr>\n",
       "    <tr>\n",
       "      <th>3</th>\n",
       "      <td>2021-01-15</td>\n",
       "      <td>0.174525</td>\n",
       "    </tr>\n",
       "    <tr>\n",
       "      <th>4</th>\n",
       "      <td>2021-01-16</td>\n",
       "      <td>0.172125</td>\n",
       "    </tr>\n",
       "  </tbody>\n",
       "</table>\n",
       "</div>"
      ],
      "text/plain": [
       "        fecha         q\n",
       "0  2021-01-12  0.183242\n",
       "1  2021-01-13  0.184608\n",
       "2  2021-01-14  0.177271\n",
       "3  2021-01-15  0.174525\n",
       "4  2021-01-16  0.172125"
      ]
     },
     "execution_count": 62,
     "metadata": {},
     "output_type": "execute_result"
    }
   ],
   "source": [
    "df_alb18.head()"
   ]
  },
  {
   "cell_type": "code",
   "execution_count": 11,
   "id": "e354567c-2585-49af-9b24-c1ef2e90dc0c",
   "metadata": {},
   "outputs": [
    {
     "data": {
      "application/vnd.jupyter.widget-view+json": {
       "model_id": "f0150f8e1e3e40c1b84c2108bf665b7b",
       "version_major": 2,
       "version_minor": 0
      },
      "image/png": "[encoded data removed]",
      "text/html": [
       "\n",
       "            <div style=\"display: inline-block;\">\n",
       "                <div class=\"jupyter-widgets widget-label\" style=\"text-align: center;\">\n",
       "                    Figure\n",
       "                </div>\n",
       "                <img src='data:image/png;base64,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' width=346.45669291338584/>\n",
       "            </div>\n",
       "        "
      ],
      "text/plain": [
       "Canvas(toolbar=Toolbar(toolitems=[('Home', 'Reset original view', 'home', 'home'), ('Back', 'Back to previous …"
      ]
     },
     "metadata": {},
     "output_type": "display_data"
    }
   ],
   "source": [
    "p.stem_1(df_alb18['fecha'], df_alb18['q'], 'Albujón en desembocadura (A18)', 'Q m3/s')"
   ]
  },
  {
   "cell_type": "markdown",
   "id": "078d7bb1-4b54-4f66-afa4-74b87f4441d9",
   "metadata": {},
   "source": [
    "### Piezómetros"
   ]
  },
  {
   "cell_type": "code",
   "execution_count": 14,
   "id": "4756bfac-d05e-4ae4-be29-d9b18c311666",
   "metadata": {},
   "outputs": [],
   "source": [
    "#### Pluviómetros más próximos a cada piezómetro\n",
    "select = \\\n",
    "\"\"\"\n",
    "with plvs as (\n",
    "select t1.id, t1.name, t1.geom\n",
    "from saih.puntos t1 \n",
    "\tjoin saih.tsd t2 using(id)\n",
    "where var = 'p01'\n",
    "group by t1.id, t1.name\n",
    "),\n",
    "pzs as (\n",
    "select t1.id, t1.name, t1.geom\n",
    "from saih.puntos t1 \n",
    "\tjoin saih.tsd t2 using(id)\n",
    "where var = 'e10'\n",
    "group by t1.id, t1.name\n",
    ")\n",
    "select t1.id piez, \n",
    "\tsplit_part(min(concat(st_distance(t1.geom, t2.geom), ' - ', t2.id)), ' - ', 2) pluvio, \n",
    "\tsplit_part(min(concat(st_distance(t1.geom, t2.geom), ' - ', t2.id)), ' - ', 1) distance\n",
    "from pzs t1, plvs t2 \n",
    "group by t1.id\n",
    "order by t1.id \n",
    "\"\"\"\n",
    "df_pz_plv = psql.read_sql(select, con)"
   ]
  },
  {
   "cell_type": "code",
   "execution_count": 15,
   "id": "a1394375-ec7a-4350-92ec-906341faa3b4",
   "metadata": {},
   "outputs": [
    {
     "data": {
      "text/html": [
       "<div>\n",
       "<style scoped>\n",
       "    .dataframe tbody tr th:only-of-type {\n",
       "        vertical-align: middle;\n",
       "    }\n",
       "\n",
       "    .dataframe tbody tr th {\n",
       "        vertical-align: top;\n",
       "    }\n",
       "\n",
       "    .dataframe thead th {\n",
       "        text-align: right;\n",
       "    }\n",
       "</style>\n",
       "<table border=\"1\" class=\"dataframe\">\n",
       "  <thead>\n",
       "    <tr style=\"text-align: right;\">\n",
       "      <th></th>\n",
       "      <th>piez</th>\n",
       "      <th>pluvio</th>\n",
       "      <th>distance</th>\n",
       "    </tr>\n",
       "  </thead>\n",
       "  <tbody>\n",
       "    <tr>\n",
       "      <th>0</th>\n",
       "      <td>06z01</td>\n",
       "      <td>06a01</td>\n",
       "      <td>15678.747526508614</td>\n",
       "    </tr>\n",
       "    <tr>\n",
       "      <th>1</th>\n",
       "      <td>06z02</td>\n",
       "      <td>06a01</td>\n",
       "      <td>14901.546362710147</td>\n",
       "    </tr>\n",
       "    <tr>\n",
       "      <th>2</th>\n",
       "      <td>06z03</td>\n",
       "      <td>06p02</td>\n",
       "      <td>16496.78683865437</td>\n",
       "    </tr>\n",
       "    <tr>\n",
       "      <th>3</th>\n",
       "      <td>06z05</td>\n",
       "      <td>06a04</td>\n",
       "      <td>598007.1926398545</td>\n",
       "    </tr>\n",
       "    <tr>\n",
       "      <th>4</th>\n",
       "      <td>06z06</td>\n",
       "      <td>06p02</td>\n",
       "      <td>12304.178152156283</td>\n",
       "    </tr>\n",
       "  </tbody>\n",
       "</table>\n",
       "</div>"
      ],
      "text/plain": [
       "    piez pluvio            distance\n",
       "0  06z01  06a01  15678.747526508614\n",
       "1  06z02  06a01  14901.546362710147\n",
       "2  06z03  06p02   16496.78683865437\n",
       "3  06z05  06a04   598007.1926398545\n",
       "4  06z06  06p02  12304.178152156283"
      ]
     },
     "execution_count": 15,
     "metadata": {},
     "output_type": "execute_result"
    }
   ],
   "source": [
    "df_pz_plv.head()"
   ]
  },
  {
   "cell_type": "code",
   "execution_count": 16,
   "id": "5c9ad799-8a99-426c-9041-f992afeb3f8e",
   "metadata": {},
   "outputs": [],
   "source": [
    "piez1 = '06z01'\n",
    "       \n",
    "# datos piezómetro\n",
    "select = \\\n",
    "\"\"\"\n",
    "select t.id, t.fecha , t.v \n",
    "from saih.tsd t \n",
    "where t.id = %s and t.var = 'e10' \n",
    "order by t.fecha\n",
    "\"\"\"\n",
    "df_cnp = psql.read_sql(select, con, params=(piez1,))\n",
    "if len(df_cnp) == 0:\n",
    "    raise ValueError(f'el piezómetro {piez1} no tiene datos')\n",
    "\n",
    "# pluviómetro relacionado con el piezómetro\n",
    "pluvio1 = 'Not found'\n",
    "for row in zip(df_pz_plv['piez'],df_pz_plv['pluvio']):\n",
    "    if row[0] == piez1:\n",
    "        pluvio1 = row[1]\n",
    "        exit\n",
    "\n",
    "# datos pluviométricos\n",
    "select = \\\n",
    "\"\"\"\n",
    "select t.id, t.fecha , t.v \n",
    "from saih.tsd t \n",
    "where t.id = %s and t.var = 'p01' and t.v>0 and t.fecha >= '2019-10-01'\n",
    "order by fecha\n",
    "\"\"\"\n",
    "df_plv = psql.read_sql(select, con, params=(pluvio1,))\n",
    "if len(df_plv) == 0:\n",
    "    raise ValueError(f'el pluviómetro {pluvio1} no tiene datos')\n",
    "    "
   ]
  },
  {
   "cell_type": "code",
   "execution_count": 128,
   "id": "8beb70c4-7171-4b4b-976a-438abbe6d5e9",
   "metadata": {},
   "outputs": [
    {
     "data": {
      "text/html": [
       "<div>\n",
       "<style scoped>\n",
       "    .dataframe tbody tr th:only-of-type {\n",
       "        vertical-align: middle;\n",
       "    }\n",
       "\n",
       "    .dataframe tbody tr th {\n",
       "        vertical-align: top;\n",
       "    }\n",
       "\n",
       "    .dataframe thead th {\n",
       "        text-align: right;\n",
       "    }\n",
       "</style>\n",
       "<table border=\"1\" class=\"dataframe\">\n",
       "  <thead>\n",
       "    <tr style=\"text-align: right;\">\n",
       "      <th></th>\n",
       "      <th>id</th>\n",
       "      <th>fecha</th>\n",
       "      <th>v</th>\n",
       "    </tr>\n",
       "  </thead>\n",
       "  <tbody>\n",
       "    <tr>\n",
       "      <th>0</th>\n",
       "      <td>06a01</td>\n",
       "      <td>2019-10-14</td>\n",
       "      <td>4.3</td>\n",
       "    </tr>\n",
       "    <tr>\n",
       "      <th>1</th>\n",
       "      <td>06a01</td>\n",
       "      <td>2019-10-21</td>\n",
       "      <td>19.0</td>\n",
       "    </tr>\n",
       "    <tr>\n",
       "      <th>2</th>\n",
       "      <td>06a01</td>\n",
       "      <td>2019-10-22</td>\n",
       "      <td>13.0</td>\n",
       "    </tr>\n",
       "    <tr>\n",
       "      <th>3</th>\n",
       "      <td>06a01</td>\n",
       "      <td>2019-11-09</td>\n",
       "      <td>0.1</td>\n",
       "    </tr>\n",
       "    <tr>\n",
       "      <th>4</th>\n",
       "      <td>06a01</td>\n",
       "      <td>2019-11-17</td>\n",
       "      <td>7.9</td>\n",
       "    </tr>\n",
       "  </tbody>\n",
       "</table>\n",
       "</div>"
      ],
      "text/plain": [
       "      id       fecha     v\n",
       "0  06a01  2019-10-14   4.3\n",
       "1  06a01  2019-10-21  19.0\n",
       "2  06a01  2019-10-22  13.0\n",
       "3  06a01  2019-11-09   0.1\n",
       "4  06a01  2019-11-17   7.9"
      ]
     },
     "execution_count": 128,
     "metadata": {},
     "output_type": "execute_result"
    }
   ],
   "source": [
    "df_plv.head()"
   ]
  },
  {
   "cell_type": "code",
   "execution_count": 17,
   "id": "de95f454-d5df-430d-aabf-e21d4cc63bc7",
   "metadata": {},
   "outputs": [
    {
     "data": {
      "application/vnd.jupyter.widget-view+json": {
       "model_id": "83eb7a62b6884281a6cda3611d8a0e88",
       "version_major": 2,
       "version_minor": 0
      },
      "image/png": "[encoded data removed]",
      "text/html": [
       "\n",
       "            <div style=\"display: inline-block;\">\n",
       "                <div class=\"jupyter-widgets widget-label\" style=\"text-align: center;\">\n",
       "                    Figure\n",
       "                </div>\n",
       "                <img src='data:image/png;base64,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' width=346.45669291338584/>\n",
       "            </div>\n",
       "        "
      ],
      "text/plain": [
       "Canvas(toolbar=Toolbar(toolitems=[('Home', 'Reset original view', 'home', 'home'), ('Back', 'Back to previous …"
      ]
     },
     "metadata": {},
     "output_type": "display_data"
    },
    {
     "data": {
      "application/vnd.jupyter.widget-view+json": {
       "model_id": "3c641baace5c4692bf91f9eb4cc261df",
       "version_major": 2,
       "version_minor": 0
      },
      "image/png": "[encoded data removed]",
      "text/html": [
       "\n",
       "            <div style=\"display: inline-block;\">\n",
       "                <div class=\"jupyter-widgets widget-label\" style=\"text-align: center;\">\n",
       "                    Figure\n",
       "                </div>\n",
       "                <img src='data:image/png;base64,iVBORw0KGgoAAAANSUhEUgAAAVoAAAEDCAYAAAB00MxJAAAAOXRFWHRTb2Z0d2FyZQBNYXRwbG90bGliIHZlcnNpb24zLjMuMiwgaHR0cHM6Ly9tYXRwbG90bGliLm9yZy8vihELAAAACXBIWXMAAAxOAAAMTgF/d4wjAAADiUlEQVR4nO3UQQ0AIBDAMMC/50PFQkJaBXttz8wsADLndQDA74wWIGa0ADGjBYgZLUDMaAFiRgsQM1qAmNECxIwWIGa0ADGjBYgZLUDMaAFiRgsQM1qAmNECxIwWIGa0ADGjBYgZLUDMaAFiRgsQM1qAmNECxIwWIGa0ADGjBYgZLUDMaAFiRgsQM1qAmNECxIwWIGa0ADGjBYgZLUDMaAFiRgsQM1qAmNECxIwWIGa0ADGjBYgZLUDMaAFiRgsQM1qAmNECxIwWIGa0ADGjBYgZLUDMaAFiRgsQM1qAmNECxIwWIGa0ADGjBYgZLUDMaAFiRgsQM1qAmNECxIwWIGa0ADGjBYgZLUDMaAFiRgsQM1qAmNECxIwWIGa0ADGjBYgZLUDMaAFiRgsQM1qAmNECxIwWIGa0ADGjBYgZLUDMaAFiRgsQM1qAmNECxIwWIGa0ADGjBYgZLUDMaAFiRgsQM1qAmNECxIwWIGa0ADGjBYgZLUDMaAFiRgsQM1qAmNECxIwWIGa0ADGjBYgZLUDMaAFiRgsQM1qAmNECxIwWIGa0ADGjBYgZLUDMaAFiRgsQM1qAmNECxIwWIGa0ADGjBYgZLUDMaAFiRgsQM1qAmNECxIwWIGa0ADGjBYgZLUDMaAFiRgsQM1qAmNECxIwWIGa0ADGjBYgZLUDMaAFiRgsQM1qAmNECxIwWIGa0ADGjBYgZLUDMaAFiRgsQM1qAmNECxIwWIGa0ADGjBYgZLUDMaAFiRgsQM1qAmNECxIwWIGa0ADGjBYgZLUDMaAFiRgsQM1qAmNECxIwWIGa0ADGjBYgZLUDMaAFiRgsQM1qAmNECxIwWIGa0ADGjBYgZLUDMaAFiRgsQM1qAmNECxIwWIGa0ADGjBYgZLUDMaAFiRgsQM1qAmNECxIwWIGa0ADGjBYgZLUDMaAFiRgsQM1qAmNECxIwWIGa0ADGjBYgZLUDMaAFiRgsQM1qAmNECxIwWIGa0ADGjBYgZLUDMaAFiRgsQM1qAmNECxIwWIGa0ADGjBYgZLUDMaAFiRgsQM1qAmNECxIwWIGa0ADGjBYgZLUDMaAFiRgsQM1qAmNECxIwWIGa0ADGjBYgZLUDMaAFiRgsQM1qAmNECxIwWIGa0ADGjBYgZLUDMaAFiRgsQM1qAmNECxIwWIGa0ADGjBYgZLUDMaAFiRgsQM1qAmNECxIwWIHYBt5sGAspwpaQAAAAASUVORK5CYII=' width=346.45669291338584/>\n",
       "            </div>\n",
       "        "
      ],
      "text/plain": [
       "Canvas(toolbar=Toolbar(toolitems=[('Home', 'Reset original view', 'home', 'home'), ('Back', 'Back to previous …"
      ]
     },
     "metadata": {},
     "output_type": "display_data"
    }
   ],
   "source": [
    "p.subplot_nv([df_cnp['fecha'], df_plv['fecha']],\n",
    "             [df_cnp['v'], df_plv['v']],\n",
    "             [f'{piez1.upper()}', f'Pluv. {pluvio1}'],\n",
    "             f'Cota piezómetrica en el sondeo {piez1.upper()}', \n",
    "             ['CNP m s.n.m.', 'Prec. mm'])"
   ]
  },
  {
   "cell_type": "code",
   "execution_count": null,
   "id": "53984770-5ede-4b2c-80a9-5eb15e26af52",
   "metadata": {},
   "outputs": [],
   "source": []
  }
 ],
 "metadata": {
  "kernelspec": {
   "display_name": "Python 3 (ipykernel)",
   "language": "python",
   "name": "python3"
  },
  "language_info": {
   "codemirror_mode": {
    "name": "ipython",
    "version": 3
   },
   "file_extension": ".py",
   "mimetype": "text/x-python",
   "name": "python",
   "nbconvert_exporter": "python",
   "pygments_lexer": "ipython3",
   "version": "3.8.12"
  }
 },
 "nbformat": 4,
 "nbformat_minor": 5
}
